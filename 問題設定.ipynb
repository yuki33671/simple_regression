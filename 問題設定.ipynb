{
 "cells": [
  {
   "cell_type": "markdown",
   "id": "876fe8ad",
   "metadata": {},
   "source": [
    "## 問題設定\n",
    "昼に暑いということは丸一日ずっと暑いと想像できるが、本当にそれは正しいのか。  \n",
    "各都道府県の平均気温と最高気温がどのように関係があるのかを知りたい    \n",
    "つまり、日本の各都道府県の平均気温を各都道府県の最高気温によって説明したい。"
   ]
  },
  {
   "cell_type": "code",
   "execution_count": 2,
   "id": "5073bcff",
   "metadata": {},
   "outputs": [
    {
     "data": {
      "text/html": [
       "<div>\n",
       "<style scoped>\n",
       "    .dataframe tbody tr th:only-of-type {\n",
       "        vertical-align: middle;\n",
       "    }\n",
       "\n",
       "    .dataframe tbody tr th {\n",
       "        vertical-align: top;\n",
       "    }\n",
       "\n",
       "    .dataframe thead th {\n",
       "        text-align: right;\n",
       "    }\n",
       "</style>\n",
       "<table border=\"1\" class=\"dataframe\">\n",
       "  <thead>\n",
       "    <tr style=\"text-align: right;\">\n",
       "      <th></th>\n",
       "      <th>Unnamed: 0</th>\n",
       "      <th>Unnamed: 1</th>\n",
       "      <th>Unnamed: 2</th>\n",
       "      <th>年平均気温</th>\n",
       "      <th>最高気温（日最高気温の月平均の最高値）</th>\n",
       "    </tr>\n",
       "  </thead>\n",
       "  <tbody>\n",
       "    <tr>\n",
       "      <th>0</th>\n",
       "      <td>2019</td>\n",
       "      <td>R01000</td>\n",
       "      <td>北海道</td>\n",
       "      <td>9.8</td>\n",
       "      <td>26.5</td>\n",
       "    </tr>\n",
       "    <tr>\n",
       "      <th>1</th>\n",
       "      <td>2018</td>\n",
       "      <td>R01000</td>\n",
       "      <td>北海道</td>\n",
       "      <td>9.5</td>\n",
       "      <td>25.7</td>\n",
       "    </tr>\n",
       "    <tr>\n",
       "      <th>2</th>\n",
       "      <td>2017</td>\n",
       "      <td>R01000</td>\n",
       "      <td>北海道</td>\n",
       "      <td>9.1</td>\n",
       "      <td>27.7</td>\n",
       "    </tr>\n",
       "    <tr>\n",
       "      <th>3</th>\n",
       "      <td>2016</td>\n",
       "      <td>R01000</td>\n",
       "      <td>北海道</td>\n",
       "      <td>9.3</td>\n",
       "      <td>28.3</td>\n",
       "    </tr>\n",
       "    <tr>\n",
       "      <th>4</th>\n",
       "      <td>2015</td>\n",
       "      <td>R01000</td>\n",
       "      <td>北海道</td>\n",
       "      <td>10.0</td>\n",
       "      <td>26.4</td>\n",
       "    </tr>\n",
       "    <tr>\n",
       "      <th>...</th>\n",
       "      <td>...</td>\n",
       "      <td>...</td>\n",
       "      <td>...</td>\n",
       "      <td>...</td>\n",
       "      <td>...</td>\n",
       "    </tr>\n",
       "    <tr>\n",
       "      <th>559</th>\n",
       "      <td>2012</td>\n",
       "      <td>R47000</td>\n",
       "      <td>沖縄県</td>\n",
       "      <td>23.0</td>\n",
       "      <td>31.8</td>\n",
       "    </tr>\n",
       "    <tr>\n",
       "      <th>560</th>\n",
       "      <td>2011</td>\n",
       "      <td>R47000</td>\n",
       "      <td>沖縄県</td>\n",
       "      <td>22.9</td>\n",
       "      <td>31.8</td>\n",
       "    </tr>\n",
       "    <tr>\n",
       "      <th>561</th>\n",
       "      <td>2010</td>\n",
       "      <td>R47000</td>\n",
       "      <td>沖縄県</td>\n",
       "      <td>23.1</td>\n",
       "      <td>31.6</td>\n",
       "    </tr>\n",
       "    <tr>\n",
       "      <th>562</th>\n",
       "      <td>2009</td>\n",
       "      <td>R47000</td>\n",
       "      <td>沖縄県</td>\n",
       "      <td>23.4</td>\n",
       "      <td>32.7</td>\n",
       "    </tr>\n",
       "    <tr>\n",
       "      <th>563</th>\n",
       "      <td>2008</td>\n",
       "      <td>R47000</td>\n",
       "      <td>沖縄県</td>\n",
       "      <td>23.4</td>\n",
       "      <td>32.3</td>\n",
       "    </tr>\n",
       "  </tbody>\n",
       "</table>\n",
       "<p>564 rows × 5 columns</p>\n",
       "</div>"
      ],
      "text/plain": [
       "     Unnamed: 0 Unnamed: 1 Unnamed: 2  年平均気温  最高気温（日最高気温の月平均の最高値）\n",
       "0          2019     R01000        北海道    9.8                 26.5\n",
       "1          2018     R01000        北海道    9.5                 25.7\n",
       "2          2017     R01000        北海道    9.1                 27.7\n",
       "3          2016     R01000        北海道    9.3                 28.3\n",
       "4          2015     R01000        北海道   10.0                 26.4\n",
       "..          ...        ...        ...    ...                  ...\n",
       "559        2012     R47000        沖縄県   23.0                 31.8\n",
       "560        2011     R47000        沖縄県   22.9                 31.8\n",
       "561        2010     R47000        沖縄県   23.1                 31.6\n",
       "562        2009     R47000        沖縄県   23.4                 32.7\n",
       "563        2008     R47000        沖縄県   23.4                 32.3\n",
       "\n",
       "[564 rows x 5 columns]"
      ]
     },
     "execution_count": 2,
     "metadata": {},
     "output_type": "execute_result"
    }
   ],
   "source": [
    "import numpy as np\n",
    "import pandas as pd\n",
    "import matplotlib.pyplot as plt\n",
    "from scipy.stats import pearsonr\n",
    "\n",
    "# データの読み込み SSDSE-B-2022.csv  有意水準5%\n",
    "df = pd.read_csv(\"SSDSE-B-2022.csv\", encoding=\"Shift JIS\")\n",
    "# 別途、前処理が必要であればすること\n",
    "# データの内容を確認\n",
    "df\n",
    "\n"
   ]
  },
  {
   "cell_type": "code",
   "execution_count": 3,
   "id": "7c2053b4",
   "metadata": {},
   "outputs": [
    {
     "data": {
      "text/plain": [
       "0       9.8\n",
       "1       9.5\n",
       "2       9.1\n",
       "3       9.3\n",
       "4      10.0\n",
       "       ... \n",
       "559    23.0\n",
       "560    22.9\n",
       "561    23.1\n",
       "562    23.4\n",
       "563    23.4\n",
       "Name: 年平均気温, Length: 564, dtype: float64"
      ]
     },
     "execution_count": 3,
     "metadata": {},
     "output_type": "execute_result"
    }
   ],
   "source": [
    "y = df[\"年平均気温\"]\n",
    "y"
   ]
  },
  {
   "cell_type": "code",
   "execution_count": 4,
   "id": "3691599b",
   "metadata": {},
   "outputs": [
    {
     "data": {
      "text/plain": [
       "0      26.5\n",
       "1      25.7\n",
       "2      27.7\n",
       "3      28.3\n",
       "4      26.4\n",
       "       ... \n",
       "559    31.8\n",
       "560    31.8\n",
       "561    31.6\n",
       "562    32.7\n",
       "563    32.3\n",
       "Name: 最高気温（日最高気温の月平均の最高値）, Length: 564, dtype: float64"
      ]
     },
     "execution_count": 4,
     "metadata": {},
     "output_type": "execute_result"
    }
   ],
   "source": [
    "x = df[\"最高気温（日最高気温の月平均の最高値）\"]\n",
    "x"
   ]
  },
  {
   "cell_type": "code",
   "execution_count": 5,
   "id": "0632ff1c",
   "metadata": {},
   "outputs": [
    {
     "data": {
      "text/plain": [
       "<matplotlib.collections.PathCollection at 0x2cb7be15910>"
      ]
     },
     "execution_count": 5,
     "metadata": {},
     "output_type": "execute_result"
    },
    {
     "data": {
      "image/png": "[encoded data removed]",
      "text/plain": [
       "<Figure size 640x480 with 1 Axes>"
      ]
     },
     "metadata": {},
     "output_type": "display_data"
    }
   ],
   "source": [
    "plt.scatter(x, y)"
   ]
  },
  {
   "cell_type": "markdown",
   "id": "a1800059",
   "metadata": {},
   "source": [
    "外れ値があり、散布図はおおよそ直線である。"
   ]
  },
  {
   "cell_type": "code",
   "execution_count": 6,
   "id": "dfeef038",
   "metadata": {},
   "outputs": [
    {
     "data": {
      "text/html": [
       "<div>\n",
       "<style scoped>\n",
       "    .dataframe tbody tr th:only-of-type {\n",
       "        vertical-align: middle;\n",
       "    }\n",
       "\n",
       "    .dataframe tbody tr th {\n",
       "        vertical-align: top;\n",
       "    }\n",
       "\n",
       "    .dataframe thead th {\n",
       "        text-align: right;\n",
       "    }\n",
       "</style>\n",
       "<table border=\"1\" class=\"dataframe\">\n",
       "  <thead>\n",
       "    <tr style=\"text-align: right;\">\n",
       "      <th></th>\n",
       "      <th>Unnamed: 0</th>\n",
       "      <th>Unnamed: 1</th>\n",
       "      <th>Unnamed: 2</th>\n",
       "      <th>年平均気温</th>\n",
       "      <th>最高気温（日最高気温の月平均の最高値）</th>\n",
       "    </tr>\n",
       "  </thead>\n",
       "  <tbody>\n",
       "    <tr>\n",
       "      <th>0</th>\n",
       "      <td>2019</td>\n",
       "      <td>R01000</td>\n",
       "      <td>北海道</td>\n",
       "      <td>9.8</td>\n",
       "      <td>26.5</td>\n",
       "    </tr>\n",
       "    <tr>\n",
       "      <th>1</th>\n",
       "      <td>2018</td>\n",
       "      <td>R01000</td>\n",
       "      <td>北海道</td>\n",
       "      <td>9.5</td>\n",
       "      <td>25.7</td>\n",
       "    </tr>\n",
       "    <tr>\n",
       "      <th>2</th>\n",
       "      <td>2017</td>\n",
       "      <td>R01000</td>\n",
       "      <td>北海道</td>\n",
       "      <td>9.1</td>\n",
       "      <td>27.7</td>\n",
       "    </tr>\n",
       "    <tr>\n",
       "      <th>3</th>\n",
       "      <td>2016</td>\n",
       "      <td>R01000</td>\n",
       "      <td>北海道</td>\n",
       "      <td>9.3</td>\n",
       "      <td>28.3</td>\n",
       "    </tr>\n",
       "    <tr>\n",
       "      <th>4</th>\n",
       "      <td>2015</td>\n",
       "      <td>R01000</td>\n",
       "      <td>北海道</td>\n",
       "      <td>10.0</td>\n",
       "      <td>26.4</td>\n",
       "    </tr>\n",
       "    <tr>\n",
       "      <th>...</th>\n",
       "      <td>...</td>\n",
       "      <td>...</td>\n",
       "      <td>...</td>\n",
       "      <td>...</td>\n",
       "      <td>...</td>\n",
       "    </tr>\n",
       "    <tr>\n",
       "      <th>559</th>\n",
       "      <td>2012</td>\n",
       "      <td>R47000</td>\n",
       "      <td>沖縄県</td>\n",
       "      <td>23.0</td>\n",
       "      <td>31.8</td>\n",
       "    </tr>\n",
       "    <tr>\n",
       "      <th>560</th>\n",
       "      <td>2011</td>\n",
       "      <td>R47000</td>\n",
       "      <td>沖縄県</td>\n",
       "      <td>22.9</td>\n",
       "      <td>31.8</td>\n",
       "    </tr>\n",
       "    <tr>\n",
       "      <th>561</th>\n",
       "      <td>2010</td>\n",
       "      <td>R47000</td>\n",
       "      <td>沖縄県</td>\n",
       "      <td>23.1</td>\n",
       "      <td>31.6</td>\n",
       "    </tr>\n",
       "    <tr>\n",
       "      <th>562</th>\n",
       "      <td>2009</td>\n",
       "      <td>R47000</td>\n",
       "      <td>沖縄県</td>\n",
       "      <td>23.4</td>\n",
       "      <td>32.7</td>\n",
       "    </tr>\n",
       "    <tr>\n",
       "      <th>563</th>\n",
       "      <td>2008</td>\n",
       "      <td>R47000</td>\n",
       "      <td>沖縄県</td>\n",
       "      <td>23.4</td>\n",
       "      <td>32.3</td>\n",
       "    </tr>\n",
       "  </tbody>\n",
       "</table>\n",
       "<p>564 rows × 5 columns</p>\n",
       "</div>"
      ],
      "text/plain": [
       "     Unnamed: 0 Unnamed: 1 Unnamed: 2  年平均気温  最高気温（日最高気温の月平均の最高値）\n",
       "0          2019     R01000        北海道    9.8                 26.5\n",
       "1          2018     R01000        北海道    9.5                 25.7\n",
       "2          2017     R01000        北海道    9.1                 27.7\n",
       "3          2016     R01000        北海道    9.3                 28.3\n",
       "4          2015     R01000        北海道   10.0                 26.4\n",
       "..          ...        ...        ...    ...                  ...\n",
       "559        2012     R47000        沖縄県   23.0                 31.8\n",
       "560        2011     R47000        沖縄県   22.9                 31.8\n",
       "561        2010     R47000        沖縄県   23.1                 31.6\n",
       "562        2009     R47000        沖縄県   23.4                 32.7\n",
       "563        2008     R47000        沖縄県   23.4                 32.3\n",
       "\n",
       "[564 rows x 5 columns]"
      ]
     },
     "execution_count": 6,
     "metadata": {},
     "output_type": "execute_result"
    }
   ],
   "source": [
    "pd.read_csv('SSDSE-B-2022.csv',encoding='SHIFT-JIS')"
   ]
  },
  {
   "cell_type": "code",
   "execution_count": null,
   "id": "c9006d10",
   "metadata": {},
   "outputs": [],
   "source": []
  }
 ],
 "metadata": {
  "kernelspec": {
   "display_name": "Python 3 (ipykernel)",
   "language": "python",
   "name": "python3"
  },
  "language_info": {
   "codemirror_mode": {
    "name": "ipython",
    "version": 3
   },
   "file_extension": ".py",
   "mimetype": "text/x-python",
   "name": "python",
   "nbconvert_exporter": "python",
   "pygments_lexer": "ipython3",
   "version": "3.9.13"
  }
 },
 "nbformat": 4,
 "nbformat_minor": 5
}
